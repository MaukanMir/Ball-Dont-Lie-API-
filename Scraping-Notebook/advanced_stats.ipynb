{
 "cells": [
  {
   "cell_type": "code",
   "execution_count": 194,
   "metadata": {},
   "outputs": [],
   "source": [
    "import os\n",
    "import sys\n",
    "import requests\n",
    "\n",
    "import pandas as pd\n",
    "from dotenv import load_dotenv\n",
    "from sqlalchemy import create_engine\n",
    "from bs4 import BeautifulSoup\n",
    "from packages.utils import get_advanced_stats, advanced_stats_headers\n",
    "\n",
    "current_dir = os.path.dirname(os.path.abspath('/Users/maukanmir/Documents/Machine-Learning/Web-Scraping-Code/Ball-Dont-Lie-API/Scraping-Notebook/advanced_stats.ipynb'))\n",
    "project_root = os.path.join(current_dir, '..')\n",
    "sys.path.insert(0, project_root)"
   ]
  },
  {
   "cell_type": "code",
   "execution_count": 195,
   "metadata": {},
   "outputs": [],
   "source": [
    "dotenv_path = (\"/Users/maukanmir/Documents/Machine-Learning/Web-Scraping-Code/Ball-Dont-Lie-API/dot.env\")\n",
    "load_dotenv(dotenv_path)\n",
    "\n",
    "DB_USER = os.getenv(\"DB_USER\")\n",
    "DB_PASSWORD = os.getenv(\"DB_PASSWORD\")\n",
    "DB_HOST = os.getenv(\"DB_HOST\")\n",
    "DB_PORT = os.getenv(\"DB_PORT\")\n",
    "DB_NAME = os.getenv(\"DB_NAME\")\n",
    "TABLE_NAME = \"Advanced_Stats\"\n",
    "\n",
    "DB_USER = os.getenv(\"DB_USER\")\n",
    "\n",
    "engine = create_engine(f'postgresql+psycopg2://{DB_USER}:{DB_PASSWORD}@{DB_HOST}/{DB_NAME}')"
   ]
  },
  {
   "cell_type": "code",
   "execution_count": 116,
   "metadata": {},
   "outputs": [
    {
     "name": "stdout",
     "output_type": "stream",
     "text": [
      " The error is 'NoneType' object has no attribute 'find'\n",
      " The error is 'NoneType' object has no attribute 'find'\n",
      " The error is 'NoneType' object has no attribute 'find'\n",
      " The error is 'NoneType' object has no attribute 'find'\n",
      " The error is 'NoneType' object has no attribute 'find'\n",
      " The error is 'NoneType' object has no attribute 'find'\n",
      " The error is 'NoneType' object has no attribute 'find'\n",
      " The error is 'NoneType' object has no attribute 'find'\n",
      " The error is 'NoneType' object has no attribute 'find'\n",
      " The error is 'NoneType' object has no attribute 'find'\n"
     ]
    }
   ],
   "source": [
    "years = [str(year) for year in range(1980, 2025)]\n",
    "\n",
    "all_data= pd.DataFrame()\n",
    "for year in years:\n",
    "  base_url = f\"https://www.basketball-reference.com/leagues/NBA_{year}.html\"\n",
    "  response = requests.get(base_url)\n",
    "  soup = BeautifulSoup(response.text, \"html.parser\")\n",
    "  try:\n",
    "    year = int(year)\n",
    "    df = get_advanced_stats(soup, year)\n",
    "    all_data = pd.concat([all_data, df])\n",
    "  except Exception as error:\n",
    "    print(f\" The error is {error}\")"
   ]
  },
  {
   "cell_type": "code",
   "execution_count": 196,
   "metadata": {},
   "outputs": [
    {
     "name": "stdout",
     "output_type": "stream",
     "text": [
      "Database operation failed. Error: (psycopg2.OperationalError) connection to server at \"localhost\" (::1), port 5432 failed: FATAL:  password authentication failed for user \"postgres\"\n",
      "\n",
      "(Background on this error at: https://sqlalche.me/e/20/e3q8)\n"
     ]
    }
   ],
   "source": [
    "try:\n",
    "    all_data.to_sql(TABLE_NAME, engine, if_exists='replace', index=False)\n",
    "    print(\"Data successfully written to the database.\")\n",
    "except Exception as e:\n",
    "    print(f\"Database operation failed. Error: {e}\")"
   ]
  },
  {
   "cell_type": "code",
   "execution_count": 183,
   "metadata": {},
   "outputs": [],
   "source": [
    "all_data.to_csv(\"data/advanced_stats.csv\", index=False)"
   ]
  }
 ],
 "metadata": {
  "kernelspec": {
   "display_name": "web-scraping",
   "language": "python",
   "name": "python3"
  },
  "language_info": {
   "codemirror_mode": {
    "name": "ipython",
    "version": 3
   },
   "file_extension": ".py",
   "mimetype": "text/x-python",
   "name": "python",
   "nbconvert_exporter": "python",
   "pygments_lexer": "ipython3",
   "version": "3.9.19"
  }
 },
 "nbformat": 4,
 "nbformat_minor": 2
}
