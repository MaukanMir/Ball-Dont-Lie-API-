{
 "cells": [
  {
   "cell_type": "code",
   "execution_count": 2,
   "metadata": {},
   "outputs": [
    {
     "name": "stdout",
     "output_type": "stream",
     "text": [
      "Current sys.path:\n",
      "['/Users/maukanmir/Documents/Machine-Learning/Web-Scraping-Code/Ball-Dont-Lie-API', '/Users/maukanmir/miniforge3/envs/web-scraping/lib/python39.zip', '/Users/maukanmir/miniforge3/envs/web-scraping/lib/python3.9', '/Users/maukanmir/miniforge3/envs/web-scraping/lib/python3.9/lib-dynload', '', '/Users/maukanmir/miniforge3/envs/web-scraping/lib/python3.9/site-packages']\n",
      "Module loaded successfully!\n"
     ]
    }
   ],
   "source": [
    "import os\n",
    "import sys\n",
    "import requests\n",
    "\n",
    "import pandas as pd\n",
    "from dotenv import load_dotenv\n",
    "from sqlalchemy import create_engine\n",
    "from bs4 import BeautifulSoup\n",
    "\n",
    "current_dir = os.path.dirname(os.path.abspath(\"__file__\"))\n",
    "project_root = os.path.abspath(os.path.join(current_dir, '..'))\n",
    "sys.path.insert(0, project_root)\n",
    "\n",
    "print(\"Current sys.path:\")\n",
    "print(sys.path)\n",
    "\n",
    "try:\n",
    "    from packages.utils import get_advanced_stats\n",
    "    print(\"Module loaded successfully!\")\n",
    "except ModuleNotFoundError:\n",
    "    print(\"Module still not found. Check sys.path and package structure.\")"
   ]
  },
  {
   "cell_type": "code",
   "execution_count": 3,
   "metadata": {},
   "outputs": [],
   "source": [
    "dotenv_path = (\"/Users/maukanmir/Documents/Machine-Learning/Web-Scraping-Code/Ball-Dont-Lie-API/dot.env\")\n",
    "load_dotenv(dotenv_path)\n",
    "\n",
    "DB_USER = os.getenv(\"DB_USER\")\n",
    "DB_PASSWORD = os.getenv(\"DB_PASSWORD\")\n",
    "DB_HOST = os.getenv(\"DB_HOST\")\n",
    "DB_PORT = os.getenv(\"DB_PORT\")\n",
    "DB_NAME = os.getenv(\"DB_NAME\")\n",
    "TABLE_NAME = \"advanced_stats\"\n",
    "\n",
    "DB_USER = os.getenv(\"DB_USER\")\n",
    "\n",
    "engine = create_engine(f'postgresql+psycopg2://{DB_USER}:{DB_PASSWORD}@{DB_HOST}/{DB_NAME}')"
   ]
  },
  {
   "cell_type": "code",
   "execution_count": 116,
   "metadata": {},
   "outputs": [
    {
     "name": "stdout",
     "output_type": "stream",
     "text": [
      " The error is 'NoneType' object has no attribute 'find'\n",
      " The error is 'NoneType' object has no attribute 'find'\n",
      " The error is 'NoneType' object has no attribute 'find'\n",
      " The error is 'NoneType' object has no attribute 'find'\n",
      " The error is 'NoneType' object has no attribute 'find'\n",
      " The error is 'NoneType' object has no attribute 'find'\n",
      " The error is 'NoneType' object has no attribute 'find'\n",
      " The error is 'NoneType' object has no attribute 'find'\n",
      " The error is 'NoneType' object has no attribute 'find'\n",
      " The error is 'NoneType' object has no attribute 'find'\n"
     ]
    }
   ],
   "source": [
    "years = [str(year) for year in range(1980, 2025)]\n",
    "\n",
    "all_data= pd.DataFrame()\n",
    "for year in years:\n",
    "  base_url = f\"https://www.basketball-reference.com/leagues/NBA_{year}.html\"\n",
    "  response = requests.get(base_url)\n",
    "  soup = BeautifulSoup(response.text, \"html.parser\")\n",
    "  try:\n",
    "    year = int(year)\n",
    "    df = get_advanced_stats(soup, year)\n",
    "    all_data = pd.concat([all_data, df])\n",
    "  except Exception as error:\n",
    "    print(f\" The error is {error}\")"
   ]
  },
  {
   "cell_type": "code",
   "execution_count": 7,
   "metadata": {},
   "outputs": [
    {
     "name": "stdout",
     "output_type": "stream",
     "text": [
      "Data successfully written to the database.\n"
     ]
    }
   ],
   "source": [
    "try:\n",
    "    all_data.to_sql(TABLE_NAME, engine, if_exists='replace', index=False)\n",
    "    print(\"Data successfully written to the database.\")\n",
    "except Exception as e:\n",
    "    print(f\"Database operation failed. Error: {e}\")"
   ]
  },
  {
   "cell_type": "code",
   "execution_count": 9,
   "metadata": {},
   "outputs": [
    {
     "data": {
      "text/plain": [
       "array([1980, 1981, 1982, 1983, 1984, 1985, 1986, 1987, 1988, 1989, 1990,\n",
       "       1991, 1992, 1993, 1994, 1995, 1996, 1997, 1998, 1999, 2000, 2001,\n",
       "       2002, 2003, 2004, 2005, 2006, 2007, 2008, 2009, 2010, 2011, 2012,\n",
       "       2013, 2015])"
      ]
     },
     "execution_count": 9,
     "metadata": {},
     "output_type": "execute_result"
    }
   ],
   "source": [
    "all_data[\"season\"].unique()"
   ]
  },
  {
   "cell_type": "code",
   "execution_count": 11,
   "metadata": {},
   "outputs": [
    {
     "data": {
      "text/plain": [
       "array([1980, 1981, 1982, 1983, 1984, 1985, 1986, 1987, 1988, 1989, 1990,\n",
       "       1991, 1992, 1993, 1994, 1995, 1996, 1997, 1998, 1999, 2000, 2001,\n",
       "       2002, 2003, 2004, 2005, 2006, 2007, 2008, 2009, 2010, 2011, 2012,\n",
       "       2013, 2015])"
      ]
     },
     "execution_count": 11,
     "metadata": {},
     "output_type": "execute_result"
    }
   ],
   "source": [
    "all_data[\"season\"].unique()"
   ]
  },
  {
   "cell_type": "code",
   "execution_count": null,
   "metadata": {},
   "outputs": [],
   "source": []
  }
 ],
 "metadata": {
  "kernelspec": {
   "display_name": "web-scraping",
   "language": "python",
   "name": "python3"
  },
  "language_info": {
   "codemirror_mode": {
    "name": "ipython",
    "version": 3
   },
   "file_extension": ".py",
   "mimetype": "text/x-python",
   "name": "python",
   "nbconvert_exporter": "python",
   "pygments_lexer": "ipython3",
   "version": "3.9.19"
  }
 },
 "nbformat": 4,
 "nbformat_minor": 2
}
