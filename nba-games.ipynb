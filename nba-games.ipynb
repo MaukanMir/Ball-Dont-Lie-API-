{
 "cells": [
  {
   "cell_type": "code",
   "execution_count": 34,
   "metadata": {},
   "outputs": [],
   "source": [
    "import os\n",
    "import sys\n",
    "import requests\n",
    "\n",
    "import pandas as pd\n",
    "from dotenv import load_dotenv\n",
    "from sqlalchemy import create_engine\n",
    "from bs4 import BeautifulSoup\n",
    "\n",
    "\n",
    "current_dir = os.path.dirname(os.path.abspath('/Users/maukanmir/Documents/Machine-Learning/Web-Scraping-Code/Ball-Dont-Lie-API/nba-games.ipynb'))\n",
    "project_root = os.path.join(current_dir, '..')\n",
    "sys.path.insert(0, project_root)"
   ]
  },
  {
   "cell_type": "code",
   "execution_count": 10,
   "metadata": {},
   "outputs": [],
   "source": [
    "dotenv_path = (\"/Users/maukanmir/Documents/Machine-Learning/Web-Scraping-Code/Ball-Dont-Lie-API/.env\")\n",
    "load_dotenv(dotenv_path)\n",
    "\n",
    "DB_USER = os.getenv(\"DB_USER\")\n",
    "DB_PASSWORD = os.getenv(\"DB_PASSWORD\")\n",
    "DB_HOST = os.getenv(\"DB_HOST\")\n",
    "DB_PORT = os.getenv(\"DB_PORT\")\n",
    "DB_NAME = os.getenv(\"DB_NAME\")\n",
    "TABLE_NAME = \"Advanced_Stats\"\n",
    "\n",
    "DB_USER = os.getenv(\"DB_USER\")\n",
    "\n",
    "engine = create_engine(f'postgresql+psycopg2://{DB_USER}:{DB_PASSWORD}@{DB_HOST}/{DB_NAME}')"
   ]
  },
  {
   "cell_type": "code",
   "execution_count": 15,
   "metadata": {},
   "outputs": [],
   "source": [
    "base_url = \"https://www.basketball-reference.com/leagues/NBA_2024.html\"\n",
    "response = requests.get(base_url)"
   ]
  },
  {
   "cell_type": "code",
   "execution_count": 20,
   "metadata": {},
   "outputs": [],
   "source": [
    "soup = BeautifulSoup(response.text, \"html.parser\")"
   ]
  },
  {
   "cell_type": "code",
   "execution_count": 109,
   "metadata": {},
   "outputs": [],
   "source": [
    "def get_advanced_stats(soup):\n",
    "    table = soup.find(\"table\", {\"id\": \"advanced-team\"})\n",
    "    rows = []\n",
    "    \n",
    "    for row in table.find(\"tbody\").find_all(\"tr\"):\n",
    "        cells = row.find_all([\"th\", \"td\"])\n",
    "        formatted_cell = [cell.get_text(strip=True) for cell in cells]\n",
    "        for clean_cell in formatted_cell:\n",
    "            if len(clean_cell) == 0:\n",
    "                formatted_cell.remove(clean_cell)\n",
    "        rows.append(formatted_cell)\n",
    "    return rows\n",
    "\n",
    "def advanced_stats_headers():\n",
    "    ## Advanced Stats Exraction\n",
    "    headers = [\n",
    "        \"Rk\", \"Team\", \"Age\", \"W\", \"L\", \"PW\", \"PL\", \"MOV\", \"SOS\", \"SRS\",\n",
    "        \"ORtg\", \"DRtg\", \"NRtg\", \"Pace\", \"FTr\", \"3PAr\", \"TS%\", \"\",\n",
    "        \"eFG%\", \"TOV%\", \"ORB%\", \"FT/FGA\", \"\", \"eFG%\", \"TOV%\", \"DRB%\", \"FT/FGA\",\n",
    "        \"Arena\", \"Attend.\", \"Attend./G\"\n",
    "    ]\n",
    "\n",
    "    # Higher-level headers\n",
    "    offensive_four_factors = [\"eFG%\", \"TOV%\", \"ORB%\", \"FT/FGA\"]\n",
    "    defensive_four_factors = [\"eFG%\", \"TOV%\", \"DRB%\", \"FT/FGA\"]\n",
    "\n",
    "    # Modify headers by prefixing higher-level headers\n",
    "    adjusted_headers = []\n",
    "    offense_added, defense_added = False, False\n",
    "\n",
    "    for header in headers:\n",
    "        if header in offensive_four_factors and not offense_added:\n",
    "            adjusted_headers.append(f\"Offensive {header}\")\n",
    "            offensive_four_factors.remove(header)\n",
    "        elif header in defensive_four_factors and not defense_added:\n",
    "            adjusted_headers.append(f\"Defensive {header}\")\n",
    "            if header == \"FT/FGA\":\n",
    "                defense_added = True\n",
    "        elif header == \"\":\n",
    "            continue\n",
    "        else:\n",
    "            adjusted_headers.append(header)\n",
    "    return adjusted_headers\n",
    "\n",
    "def convert_string_to_ints(df, year):\n",
    "    \n",
    "    for col in df.columns:\n",
    "        if col != \"Team\" and col != \"Arena\":\n",
    "            try:\n",
    "                df[col] = df[col].str.replace(\",\", \"\").astype(float)\n",
    "            except:\n",
    "                continue\n",
    "        elif col == \"Team\":\n",
    "            df[col] = df[col].str.replace(\"*\", \"\")\n",
    "    \n",
    "    df[\"season\"] = year\n",
    "    return df"
   ]
  },
  {
   "cell_type": "code",
   "execution_count": null,
   "metadata": {},
   "outputs": [],
   "source": [
    "years = [str(year) for year in range(2000, 2025)]\n",
    "\n",
    "all_data= pd.DataFrame()\n",
    "for year in years:\n",
    "  base_url = f\"https://www.basketball-reference.com/leagues/NBA_{year}.html\"\n",
    "  response = requests.get(base_url)\n",
    "  soup = BeautifulSoup(response.text, \"html.parser\")\n",
    "  try:\n",
    "    year = int(year)\n",
    "    rows = get_advanced_stats(soup)\n",
    "    adjusted_headers = advanced_stats_headers()\n",
    "    df = pd.DataFrame(rows, columns=adjusted_headers)\n",
    "    df = convert_string_to_ints(df, year)\n",
    "    all_data = pd.concat([all_data, df])\n",
    "  except Exception as error:\n",
    "    print(f\" The error is {error}\")"
   ]
  }
 ],
 "metadata": {
  "kernelspec": {
   "display_name": "web-scraping",
   "language": "python",
   "name": "python3"
  },
  "language_info": {
   "codemirror_mode": {
    "name": "ipython",
    "version": 3
   },
   "file_extension": ".py",
   "mimetype": "text/x-python",
   "name": "python",
   "nbconvert_exporter": "python",
   "pygments_lexer": "ipython3",
   "version": "3.9.19"
  }
 },
 "nbformat": 4,
 "nbformat_minor": 2
}
