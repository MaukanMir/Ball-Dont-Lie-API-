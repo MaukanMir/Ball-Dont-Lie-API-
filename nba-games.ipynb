{
 "cells": [
  {
   "cell_type": "code",
   "execution_count": 9,
   "metadata": {},
   "outputs": [],
   "source": [
    "import os\n",
    "import sys\n",
    "\n",
    "import pandas as pd\n",
    "import numpy as np\n",
    "from dotenv import load_dotenv\n",
    "import requests\n",
    "from sqlalchemy import create_engine\n",
    "\n",
    "from balldontlie import BalldontlieAPI\n",
    "from balldontlie.exceptions import (\n",
    "    AuthenticationError,\n",
    "    RateLimitError,\n",
    "    ValidationError,\n",
    "    NotFoundError,\n",
    "    ServerError,\n",
    "    BallDontLieException\n",
    ")\n",
    "\n",
    "current_dir = os.path.dirname(os.path.abspath('/Users/maukanmir/Documents/Machine-Learning/Web-Scraping-Code/Ball-Dont-Lie-API/nba-games.ipynb'))\n",
    "project_root = os.path.join(current_dir, '..')\n",
    "sys.path.insert(0, project_root)"
   ]
  },
  {
   "cell_type": "code",
   "execution_count": 10,
   "metadata": {},
   "outputs": [],
   "source": [
    "dotenv_path = (\"/Users/maukanmir/Documents/Machine-Learning/Web-Scraping-Code/Ball-Dont-Lie-API/.env\")\n",
    "load_dotenv(dotenv_path)\n",
    "\n",
    "DB_USER = os.getenv(\"DB_USER\")\n",
    "DB_PASSWORD = os.getenv(\"DB_PASSWORD\")\n",
    "DB_HOST = os.getenv(\"DB_HOST\")\n",
    "DB_PORT = os.getenv(\"DB_PORT\")\n",
    "DB_NAME = os.getenv(\"DB_NAME\")\n",
    "TABLE_NAME = \"NBA_Games\"\n",
    "\n",
    "DB_USER = os.getenv(\"DB_USER\")\n",
    "client =  BalldontlieAPI(api_key=os.getenv(\"BALL_DONT_LIE_API_KEY\"))\n",
    "\n",
    "engine = create_engine(f'postgresql+psycopg2://{DB_USER}:{DB_PASSWORD}@{DB_HOST}/{DB_NAME}')"
   ]
  },
  {
   "cell_type": "code",
   "execution_count": 11,
   "metadata": {},
   "outputs": [],
   "source": [
    "\n",
    "try:\n",
    "    teams = client.nba.teams.list()\n",
    "except AuthenticationError as e:\n",
    "    print(f\"Invalid API key. Status: {e.status_code}, Details: {e.response_data}\")\n",
    "except RateLimitError as e:\n",
    "    print(f\"Rate limit exceeded. Status: {e.status_code}, Details: {e.response_data}\")\n",
    "except ValidationError as e:\n",
    "    print(f\"Invalid request parameters. Status: {e.status_code}, Details: {e.response_data}\")\n",
    "except NotFoundError as e:\n",
    "    print(f\"Resource not found. Status: {e.status_code}, Details: {e.response_data}\")\n",
    "except ServerError as e:\n",
    "    print(f\"API server error. Status: {e.status_code}, Details: {e.response_data}\")\n",
    "except BallDontLieException as e:\n",
    "    print(f\"General API error. Status: {e.status_code}, Details: {e.response_data}\")\n",
    "except Exception as e:\n",
    "    print(f\"Unexpected error: {str(e)}\")"
   ]
  },
  {
   "cell_type": "code",
   "execution_count": 14,
   "metadata": {},
   "outputs": [
    {
     "data": {
      "text/plain": [
       "ListResponse(data=[NBATeam(id=1, conference='East', division='Southeast', city='Atlanta', name='Hawks', full_name='Atlanta Hawks', abbreviation='ATL'), NBATeam(id=2, conference='East', division='Atlantic', city='Boston', name='Celtics', full_name='Boston Celtics', abbreviation='BOS'), NBATeam(id=3, conference='East', division='Atlantic', city='Brooklyn', name='Nets', full_name='Brooklyn Nets', abbreviation='BKN'), NBATeam(id=4, conference='East', division='Southeast', city='Charlotte', name='Hornets', full_name='Charlotte Hornets', abbreviation='CHA'), NBATeam(id=5, conference='East', division='Central', city='Chicago', name='Bulls', full_name='Chicago Bulls', abbreviation='CHI'), NBATeam(id=6, conference='East', division='Central', city='Cleveland', name='Cavaliers', full_name='Cleveland Cavaliers', abbreviation='CLE'), NBATeam(id=7, conference='West', division='Southwest', city='Dallas', name='Mavericks', full_name='Dallas Mavericks', abbreviation='DAL'), NBATeam(id=8, conference='West', division='Northwest', city='Denver', name='Nuggets', full_name='Denver Nuggets', abbreviation='DEN'), NBATeam(id=9, conference='East', division='Central', city='Detroit', name='Pistons', full_name='Detroit Pistons', abbreviation='DET'), NBATeam(id=10, conference='West', division='Pacific', city='Golden State', name='Warriors', full_name='Golden State Warriors', abbreviation='GSW'), NBATeam(id=11, conference='West', division='Southwest', city='Houston', name='Rockets', full_name='Houston Rockets', abbreviation='HOU'), NBATeam(id=12, conference='East', division='Central', city='Indiana', name='Pacers', full_name='Indiana Pacers', abbreviation='IND'), NBATeam(id=13, conference='West', division='Pacific', city='LA', name='Clippers', full_name='LA Clippers', abbreviation='LAC'), NBATeam(id=14, conference='West', division='Pacific', city='Los Angeles', name='Lakers', full_name='Los Angeles Lakers', abbreviation='LAL'), NBATeam(id=15, conference='West', division='Southwest', city='Memphis', name='Grizzlies', full_name='Memphis Grizzlies', abbreviation='MEM'), NBATeam(id=16, conference='East', division='Southeast', city='Miami', name='Heat', full_name='Miami Heat', abbreviation='MIA'), NBATeam(id=17, conference='East', division='Central', city='Milwaukee', name='Bucks', full_name='Milwaukee Bucks', abbreviation='MIL'), NBATeam(id=18, conference='West', division='Northwest', city='Minnesota', name='Timberwolves', full_name='Minnesota Timberwolves', abbreviation='MIN'), NBATeam(id=19, conference='West', division='Southwest', city='New Orleans', name='Pelicans', full_name='New Orleans Pelicans', abbreviation='NOP'), NBATeam(id=20, conference='East', division='Atlantic', city='New York', name='Knicks', full_name='New York Knicks', abbreviation='NYK'), NBATeam(id=21, conference='West', division='Northwest', city='Oklahoma City', name='Thunder', full_name='Oklahoma City Thunder', abbreviation='OKC'), NBATeam(id=22, conference='East', division='Southeast', city='Orlando', name='Magic', full_name='Orlando Magic', abbreviation='ORL'), NBATeam(id=23, conference='East', division='Atlantic', city='Philadelphia', name='76ers', full_name='Philadelphia 76ers', abbreviation='PHI'), NBATeam(id=24, conference='West', division='Pacific', city='Phoenix', name='Suns', full_name='Phoenix Suns', abbreviation='PHX'), NBATeam(id=25, conference='West', division='Northwest', city='Portland', name='Trail Blazers', full_name='Portland Trail Blazers', abbreviation='POR'), NBATeam(id=26, conference='West', division='Pacific', city='Sacramento', name='Kings', full_name='Sacramento Kings', abbreviation='SAC'), NBATeam(id=27, conference='West', division='Southwest', city='San Antonio', name='Spurs', full_name='San Antonio Spurs', abbreviation='SAS'), NBATeam(id=28, conference='East', division='Atlantic', city='Toronto', name='Raptors', full_name='Toronto Raptors', abbreviation='TOR'), NBATeam(id=29, conference='West', division='Northwest', city='Utah', name='Jazz', full_name='Utah Jazz', abbreviation='UTA'), NBATeam(id=30, conference='East', division='Southeast', city='Washington', name='Wizards', full_name='Washington Wizards', abbreviation='WAS'), NBATeam(id=37, conference='    ', division='', city='', name='Chicago Stags', full_name='Chicago Stags', abbreviation='CHS'), NBATeam(id=38, conference='    ', division='', city='', name='St. Louis Bombers', full_name='St. Louis Bombers', abbreviation='BOM'), NBATeam(id=39, conference='    ', division='', city='', name='Cleveland Rebels', full_name='Cleveland Rebels', abbreviation='CLR'), NBATeam(id=40, conference='    ', division='', city='', name='Detroit Falcons', full_name='Detroit Falcons', abbreviation='DEF'), NBATeam(id=41, conference='    ', division='', city='', name='Toronto Huskies', full_name='Toronto Huskies', abbreviation='HUS'), NBATeam(id=42, conference='    ', division='', city='', name='Washington Capitols', full_name='Washington Capitols', abbreviation='WAS'), NBATeam(id=43, conference='    ', division='', city='', name='Providence Steamrollers', full_name='Providence Steamrollers', abbreviation='PRO'), NBATeam(id=44, conference='    ', division='', city='', name='Pittsburgh Ironmen', full_name='Pittsburgh Ironmen', abbreviation='PIT'), NBATeam(id=45, conference='    ', division='', city='', name='Baltimore Bullets', full_name='Baltimore Bullets', abbreviation='BAL'), NBATeam(id=46, conference='    ', division='', city='', name='Indianapolis Jets', full_name='Indianapolis Jets', abbreviation='JET'), NBATeam(id=47, conference='    ', division='', city='', name='Anderson Packers', full_name='Anderson Packers', abbreviation='AND'), NBATeam(id=48, conference='    ', division='', city='', name='Waterloo Hawks', full_name='Waterloo Hawks', abbreviation='WAT'), NBATeam(id=49, conference='    ', division='', city='', name='Indianapolis Olympians', full_name='Indianapolis Olympians', abbreviation='INO'), NBATeam(id=50, conference='    ', division='', city='', name='Denver Nuggets', full_name='Denver Nuggets', abbreviation='DN'), NBATeam(id=51, conference='    ', division='', city='', name='Sheboygan Redskins', full_name='Sheboygan Redskins', abbreviation='SHE')])"
      ]
     },
     "execution_count": 14,
     "metadata": {},
     "output_type": "execute_result"
    }
   ],
   "source": [
    "teams"
   ]
  }
 ],
 "metadata": {
  "kernelspec": {
   "display_name": "web-scraping",
   "language": "python",
   "name": "python3"
  },
  "language_info": {
   "codemirror_mode": {
    "name": "ipython",
    "version": 3
   },
   "file_extension": ".py",
   "mimetype": "text/x-python",
   "name": "python",
   "nbconvert_exporter": "python",
   "pygments_lexer": "ipython3",
   "version": "3.9.19"
  }
 },
 "nbformat": 4,
 "nbformat_minor": 2
}
