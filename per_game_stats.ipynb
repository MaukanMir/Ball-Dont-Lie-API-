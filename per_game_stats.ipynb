{
 "cells": [
  {
   "cell_type": "code",
   "execution_count": null,
   "metadata": {},
   "outputs": [],
   "source": [
    "import os\n",
    "import sys\n",
    "import requests\n",
    "\n",
    "import pandas as pd\n",
    "from dotenv import load_dotenv\n",
    "from sqlalchemy import create_engine\n",
    "from bs4 import BeautifulSoup\n",
    "\n",
    "from packages.utils import get_total_stats\n",
    "\n",
    "\n",
    "\n",
    "current_dir = os.path.dirname(os.path.abspath('/Users/maukanmir/Documents/Machine-Learning/Web-Scraping-Code/Ball-Dont-Lie-API/advanced_stats.ipynb'))\n",
    "project_root = os.path.join(current_dir, '..')\n",
    "sys.path.insert(0, project_root)"
   ]
  },
  {
   "cell_type": "code",
   "execution_count": null,
   "metadata": {},
   "outputs": [],
   "source": [
    "dotenv_path = (\"/Users/maukanmir/Documents/Machine-Learning/Web-Scraping-Code/Ball-Dont-Lie-API/dot.env\")\n",
    "load_dotenv(dotenv_path)\n",
    "\n",
    "DB_USER = os.getenv(\"DB_USER\")\n",
    "DB_PASSWORD = os.getenv(\"DB_PASSWORD\")\n",
    "DB_HOST = os.getenv(\"DB_HOST\")\n",
    "DB_PORT = os.getenv(\"DB_PORT\")\n",
    "DB_NAME = os.getenv(\"DB_NAME\")\n",
    "TABLE_NAME = \"Total_Stats\"\n",
    "\n",
    "DB_USER = os.getenv(\"DB_USER\")\n",
    "\n",
    "engine = create_engine(f'postgresql+psycopg2://{DB_USER}:{DB_PASSWORD}@{DB_HOST}/{DB_NAME}')"
   ]
  },
  {
   "cell_type": "code",
   "execution_count": null,
   "metadata": {},
   "outputs": [],
   "source": [
    "years = [str(year) for year in range(1980, 2025)]\n",
    "all_data= pd.DataFrame()\n",
    "\n",
    "for year in years:\n",
    "  base_url = f\"https://www.basketball-reference.com/leagues/NBA_{year}.html\"\n",
    "  response = requests.get(base_url)\n",
    "  soup = BeautifulSoup(response.text, \"html.parser\")\n",
    "  try:\n",
    "    year = int(year)\n",
    "    df = get_total_stats(soup, year)\n",
    "    all_data = pd.concat([all_data, df])\n",
    "  except Exception as error:\n",
    "    print(f\" The error is {error}\")"
   ]
  },
  {
   "cell_type": "code",
   "execution_count": null,
   "metadata": {},
   "outputs": [],
   "source": [
    "try:\n",
    "    all_data.to_sql(TABLE_NAME, engine, if_exists='replace', index=False)\n",
    "    print(\"Data successfully written to the database.\")\n",
    "except Exception as e:\n",
    "    print(f\"Database operation failed. Error: {e}\")"
   ]
  },
  {
   "cell_type": "code",
   "execution_count": null,
   "metadata": {},
   "outputs": [],
   "source": [
    "def per_game_stats(soup, year):\n",
    "    table = soup.find(\"table\", {\"id\": \"per_game-team\"})\n",
    "\n",
    "    # Extract the headers\n",
    "    headers = [th.text.strip() for th in table.find(\"thead\").find_all(\"th\")]\n",
    "\n",
    "    # Extract the rows from the tbody\n",
    "    rows = table.find(\"tbody\").find_all(\"tr\")\n",
    "\n",
    "    # Extract the data for each row\n",
    "    data = []\n",
    "    for row in rows:\n",
    "        cells = row.find_all(\"td\")\n",
    "        row_data = [cell.text.strip() for cell in cells]\n",
    "        data.append(row_data)\n",
    "\n",
    "    # Create a DataFrame from the parsed data\n",
    "    df = pd.DataFrame(data, columns=headers[1:])\n",
    "    df\n",
    "    df[\"Season\"] = year\n",
    "    return df\n"
   ]
  }
 ],
 "metadata": {
  "kernelspec": {
   "display_name": "web-scraping",
   "language": "python",
   "name": "python3"
  },
  "language_info": {
   "name": "python",
   "version": "3.9.19"
  }
 },
 "nbformat": 4,
 "nbformat_minor": 2
}
